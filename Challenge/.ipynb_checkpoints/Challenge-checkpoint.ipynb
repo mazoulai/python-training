{
 "cells": [
  {
   "cell_type": "code",
   "execution_count": 331,
   "metadata": {},
   "outputs": [],
   "source": [
    "import pandas as pd\n",
    "import numpy as np\n",
    "import re"
   ]
  },
  {
   "cell_type": "code",
   "execution_count": 332,
   "metadata": {},
   "outputs": [],
   "source": [
    "# Read as csv\n",
    "df = pd.read_csv('cleaned_2.txt', sep = ';', header = None, names = ['blob'])"
   ]
  },
  {
   "cell_type": "code",
   "execution_count": 333,
   "metadata": {},
   "outputs": [],
   "source": [
    "# Extract password letter number\n",
    "df['letter'] = df['blob'].str.partition('password,', True)[2].str.partition(',', True)[0].astype(int)"
   ]
  },
  {
   "cell_type": "code",
   "execution_count": 334,
   "metadata": {},
   "outputs": [],
   "source": [
    "# Extract ascii character number\n",
    "df['bin_char_index'] = df['blob'].str.partition('))),', True)[2].str.slice(stop =1).astype(int)"
   ]
  },
  {
   "cell_type": "code",
   "execution_count": 335,
   "metadata": {},
   "outputs": [],
   "source": [
    "# Extract time string\n",
    "df['time']=df['blob'].str.slice(start = 0, stop =8)"
   ]
  },
  {
   "cell_type": "code",
   "execution_count": 336,
   "metadata": {},
   "outputs": [],
   "source": [
    "# Convert time string to time format\n",
    "df['time']  = pd.to_datetime(df['time'],format= '%H:%M:%S' )"
   ]
  },
  {
   "cell_type": "code",
   "execution_count": 337,
   "metadata": {},
   "outputs": [],
   "source": [
    "df.drop(['blob'], axis = 1, inplace = True)"
   ]
  },
  {
   "cell_type": "code",
   "execution_count": 338,
   "metadata": {
    "scrolled": true
   },
   "outputs": [],
   "source": [
    "# Find time difference in seconds with next row of data\n",
    "df['next_time'] = df['time'].shift(-1)\n",
    "df['time_diff'] = (df['next_time'] - df['time']).dt.seconds"
   ]
  },
  {
   "cell_type": "code",
   "execution_count": 339,
   "metadata": {},
   "outputs": [],
   "source": [
    "df['time_diff'] = df['time_diff'].fillna(2)"
   ]
  },
  {
   "cell_type": "code",
   "execution_count": 340,
   "metadata": {},
   "outputs": [],
   "source": [
    "conditions = [\n",
    "    (df['time_diff'] == 0) & (df['bin_char_index'] != 7),\n",
    "    (df['time_diff'] == 2) & (df['bin_char_index'] != 7),\n",
    "    (df['time_diff'] == 4) & (df['bin_char_index'] != 7),\n",
    "    (df['time_diff'] == 6) & (df['bin_char_index'] != 7),\n",
    "    (df['time_diff'] == 2) & (df['bin_char_index'] == 7),]\n",
    "\n",
    "choices = ['00', '01', '10', '11','0']\n",
    "\n",
    "df['bin_char'] = np.select(conditions, choices, default='1')\n",
    "\n"
   ]
  },
  {
   "cell_type": "code",
   "execution_count": 341,
   "metadata": {},
   "outputs": [
    {
     "data": {
      "text/html": [
       "<div>\n",
       "<style scoped>\n",
       "    .dataframe tbody tr th:only-of-type {\n",
       "        vertical-align: middle;\n",
       "    }\n",
       "\n",
       "    .dataframe tbody tr th {\n",
       "        vertical-align: top;\n",
       "    }\n",
       "\n",
       "    .dataframe thead th {\n",
       "        text-align: right;\n",
       "    }\n",
       "</style>\n",
       "<table border=\"1\" class=\"dataframe\">\n",
       "  <thead>\n",
       "    <tr style=\"text-align: right;\">\n",
       "      <th></th>\n",
       "      <th>letter</th>\n",
       "      <th>bin_char_index</th>\n",
       "      <th>time</th>\n",
       "      <th>next_time</th>\n",
       "      <th>time_diff</th>\n",
       "      <th>bin_char</th>\n",
       "    </tr>\n",
       "  </thead>\n",
       "  <tbody>\n",
       "    <tr>\n",
       "      <th>0</th>\n",
       "      <td>1</td>\n",
       "      <td>1</td>\n",
       "      <td>1900-01-01 12:12:54</td>\n",
       "      <td>1900-01-01 12:13:00</td>\n",
       "      <td>6.0</td>\n",
       "      <td>11</td>\n",
       "    </tr>\n",
       "    <tr>\n",
       "      <th>1</th>\n",
       "      <td>1</td>\n",
       "      <td>3</td>\n",
       "      <td>1900-01-01 12:13:00</td>\n",
       "      <td>1900-01-01 12:13:00</td>\n",
       "      <td>0.0</td>\n",
       "      <td>00</td>\n",
       "    </tr>\n",
       "    <tr>\n",
       "      <th>2</th>\n",
       "      <td>1</td>\n",
       "      <td>5</td>\n",
       "      <td>1900-01-01 12:13:00</td>\n",
       "      <td>1900-01-01 12:13:06</td>\n",
       "      <td>6.0</td>\n",
       "      <td>11</td>\n",
       "    </tr>\n",
       "    <tr>\n",
       "      <th>3</th>\n",
       "      <td>1</td>\n",
       "      <td>7</td>\n",
       "      <td>1900-01-01 12:13:06</td>\n",
       "      <td>1900-01-01 12:13:10</td>\n",
       "      <td>4.0</td>\n",
       "      <td>1</td>\n",
       "    </tr>\n",
       "    <tr>\n",
       "      <th>4</th>\n",
       "      <td>2</td>\n",
       "      <td>1</td>\n",
       "      <td>1900-01-01 12:13:10</td>\n",
       "      <td>1900-01-01 12:13:16</td>\n",
       "      <td>6.0</td>\n",
       "      <td>11</td>\n",
       "    </tr>\n",
       "    <tr>\n",
       "      <th>...</th>\n",
       "      <td>...</td>\n",
       "      <td>...</td>\n",
       "      <td>...</td>\n",
       "      <td>...</td>\n",
       "      <td>...</td>\n",
       "      <td>...</td>\n",
       "    </tr>\n",
       "    <tr>\n",
       "      <th>79</th>\n",
       "      <td>20</td>\n",
       "      <td>7</td>\n",
       "      <td>1900-01-01 12:16:58</td>\n",
       "      <td>1900-01-01 12:17:02</td>\n",
       "      <td>4.0</td>\n",
       "      <td>1</td>\n",
       "    </tr>\n",
       "    <tr>\n",
       "      <th>80</th>\n",
       "      <td>21</td>\n",
       "      <td>1</td>\n",
       "      <td>1900-01-01 12:17:02</td>\n",
       "      <td>1900-01-01 12:17:02</td>\n",
       "      <td>0.0</td>\n",
       "      <td>00</td>\n",
       "    </tr>\n",
       "    <tr>\n",
       "      <th>81</th>\n",
       "      <td>21</td>\n",
       "      <td>3</td>\n",
       "      <td>1900-01-01 12:17:02</td>\n",
       "      <td>1900-01-01 12:17:02</td>\n",
       "      <td>0.0</td>\n",
       "      <td>00</td>\n",
       "    </tr>\n",
       "    <tr>\n",
       "      <th>82</th>\n",
       "      <td>21</td>\n",
       "      <td>5</td>\n",
       "      <td>1900-01-01 12:17:02</td>\n",
       "      <td>1900-01-01 12:17:02</td>\n",
       "      <td>0.0</td>\n",
       "      <td>00</td>\n",
       "    </tr>\n",
       "    <tr>\n",
       "      <th>83</th>\n",
       "      <td>21</td>\n",
       "      <td>7</td>\n",
       "      <td>1900-01-01 12:17:02</td>\n",
       "      <td>NaT</td>\n",
       "      <td>2.0</td>\n",
       "      <td>0</td>\n",
       "    </tr>\n",
       "  </tbody>\n",
       "</table>\n",
       "<p>84 rows × 6 columns</p>\n",
       "</div>"
      ],
      "text/plain": [
       "    letter  bin_char_index                time           next_time  time_diff  \\\n",
       "0        1               1 1900-01-01 12:12:54 1900-01-01 12:13:00        6.0   \n",
       "1        1               3 1900-01-01 12:13:00 1900-01-01 12:13:00        0.0   \n",
       "2        1               5 1900-01-01 12:13:00 1900-01-01 12:13:06        6.0   \n",
       "3        1               7 1900-01-01 12:13:06 1900-01-01 12:13:10        4.0   \n",
       "4        2               1 1900-01-01 12:13:10 1900-01-01 12:13:16        6.0   \n",
       "..     ...             ...                 ...                 ...        ...   \n",
       "79      20               7 1900-01-01 12:16:58 1900-01-01 12:17:02        4.0   \n",
       "80      21               1 1900-01-01 12:17:02 1900-01-01 12:17:02        0.0   \n",
       "81      21               3 1900-01-01 12:17:02 1900-01-01 12:17:02        0.0   \n",
       "82      21               5 1900-01-01 12:17:02 1900-01-01 12:17:02        0.0   \n",
       "83      21               7 1900-01-01 12:17:02                 NaT        2.0   \n",
       "\n",
       "   bin_char  \n",
       "0        11  \n",
       "1        00  \n",
       "2        11  \n",
       "3         1  \n",
       "4        11  \n",
       "..      ...  \n",
       "79        1  \n",
       "80       00  \n",
       "81       00  \n",
       "82       00  \n",
       "83        0  \n",
       "\n",
       "[84 rows x 6 columns]"
      ]
     },
     "execution_count": 341,
     "metadata": {},
     "output_type": "execute_result"
    }
   ],
   "source": [
    "df"
   ]
  },
  {
   "cell_type": "code",
   "execution_count": 342,
   "metadata": {},
   "outputs": [],
   "source": [
    "df = df.groupby(['letter'])['bin_char'].apply(''.join).reset_index()"
   ]
  },
  {
   "cell_type": "code",
   "execution_count": 344,
   "metadata": {},
   "outputs": [],
   "source": [
    "df['bin_char']='0' + df['bin_char']"
   ]
  },
  {
   "cell_type": "code",
   "execution_count": 345,
   "metadata": {},
   "outputs": [
    {
     "data": {
      "text/html": [
       "<div>\n",
       "<style scoped>\n",
       "    .dataframe tbody tr th:only-of-type {\n",
       "        vertical-align: middle;\n",
       "    }\n",
       "\n",
       "    .dataframe tbody tr th {\n",
       "        vertical-align: top;\n",
       "    }\n",
       "\n",
       "    .dataframe thead th {\n",
       "        text-align: right;\n",
       "    }\n",
       "</style>\n",
       "<table border=\"1\" class=\"dataframe\">\n",
       "  <thead>\n",
       "    <tr style=\"text-align: right;\">\n",
       "      <th></th>\n",
       "      <th>letter</th>\n",
       "      <th>bin_char</th>\n",
       "    </tr>\n",
       "  </thead>\n",
       "  <tbody>\n",
       "    <tr>\n",
       "      <th>0</th>\n",
       "      <td>1</td>\n",
       "      <td>01100111</td>\n",
       "    </tr>\n",
       "    <tr>\n",
       "      <th>1</th>\n",
       "      <td>2</td>\n",
       "      <td>01110011</td>\n",
       "    </tr>\n",
       "    <tr>\n",
       "      <th>2</th>\n",
       "      <td>3</td>\n",
       "      <td>01010101</td>\n",
       "    </tr>\n",
       "    <tr>\n",
       "      <th>3</th>\n",
       "      <td>4</td>\n",
       "      <td>01010111</td>\n",
       "    </tr>\n",
       "    <tr>\n",
       "      <th>4</th>\n",
       "      <td>5</td>\n",
       "      <td>01000100</td>\n",
       "    </tr>\n",
       "    <tr>\n",
       "      <th>5</th>\n",
       "      <td>6</td>\n",
       "      <td>01110001</td>\n",
       "    </tr>\n",
       "    <tr>\n",
       "      <th>6</th>\n",
       "      <td>7</td>\n",
       "      <td>01000101</td>\n",
       "    </tr>\n",
       "    <tr>\n",
       "      <th>7</th>\n",
       "      <td>8</td>\n",
       "      <td>01011010</td>\n",
       "    </tr>\n",
       "    <tr>\n",
       "      <th>8</th>\n",
       "      <td>9</td>\n",
       "      <td>01100111</td>\n",
       "    </tr>\n",
       "    <tr>\n",
       "      <th>9</th>\n",
       "      <td>10</td>\n",
       "      <td>01000010</td>\n",
       "    </tr>\n",
       "    <tr>\n",
       "      <th>10</th>\n",
       "      <td>11</td>\n",
       "      <td>01101000</td>\n",
       "    </tr>\n",
       "    <tr>\n",
       "      <th>11</th>\n",
       "      <td>12</td>\n",
       "      <td>01000010</td>\n",
       "    </tr>\n",
       "    <tr>\n",
       "      <th>12</th>\n",
       "      <td>13</td>\n",
       "      <td>01110000</td>\n",
       "    </tr>\n",
       "    <tr>\n",
       "      <th>13</th>\n",
       "      <td>14</td>\n",
       "      <td>01100011</td>\n",
       "    </tr>\n",
       "    <tr>\n",
       "      <th>14</th>\n",
       "      <td>15</td>\n",
       "      <td>01101001</td>\n",
       "    </tr>\n",
       "    <tr>\n",
       "      <th>15</th>\n",
       "      <td>16</td>\n",
       "      <td>01101110</td>\n",
       "    </tr>\n",
       "    <tr>\n",
       "      <th>16</th>\n",
       "      <td>17</td>\n",
       "      <td>01010100</td>\n",
       "    </tr>\n",
       "    <tr>\n",
       "      <th>17</th>\n",
       "      <td>18</td>\n",
       "      <td>01010011</td>\n",
       "    </tr>\n",
       "    <tr>\n",
       "      <th>18</th>\n",
       "      <td>19</td>\n",
       "      <td>01000001</td>\n",
       "    </tr>\n",
       "    <tr>\n",
       "      <th>19</th>\n",
       "      <td>20</td>\n",
       "      <td>01010011</td>\n",
       "    </tr>\n",
       "    <tr>\n",
       "      <th>20</th>\n",
       "      <td>21</td>\n",
       "      <td>00000000</td>\n",
       "    </tr>\n",
       "  </tbody>\n",
       "</table>\n",
       "</div>"
      ],
      "text/plain": [
       "    letter  bin_char\n",
       "0        1  01100111\n",
       "1        2  01110011\n",
       "2        3  01010101\n",
       "3        4  01010111\n",
       "4        5  01000100\n",
       "5        6  01110001\n",
       "6        7  01000101\n",
       "7        8  01011010\n",
       "8        9  01100111\n",
       "9       10  01000010\n",
       "10      11  01101000\n",
       "11      12  01000010\n",
       "12      13  01110000\n",
       "13      14  01100011\n",
       "14      15  01101001\n",
       "15      16  01101110\n",
       "16      17  01010100\n",
       "17      18  01010011\n",
       "18      19  01000001\n",
       "19      20  01010011\n",
       "20      21  00000000"
      ]
     },
     "execution_count": 345,
     "metadata": {},
     "output_type": "execute_result"
    }
   ],
   "source": [
    "df"
   ]
  },
  {
   "cell_type": "code",
   "execution_count": 353,
   "metadata": {},
   "outputs": [],
   "source": [
    "password_list = df['bin_char'].tolist()"
   ]
  },
  {
   "cell_type": "code",
   "execution_count": 354,
   "metadata": {},
   "outputs": [],
   "source": [
    "password = ' '.join(password_list)"
   ]
  },
  {
   "cell_type": "code",
   "execution_count": 355,
   "metadata": {},
   "outputs": [
    {
     "data": {
      "text/plain": [
       "'01100111 01110011 01010101 01010111 01000100 01110001 01000101 01011010 01100111 01000010 01101000 01000010 01110000 01100011 01101001 01101110 01010100 01010011 01000001 01010011 00000000'"
      ]
     },
     "execution_count": 355,
     "metadata": {},
     "output_type": "execute_result"
    }
   ],
   "source": [
    "password"
   ]
  },
  {
   "cell_type": "code",
   "execution_count": null,
   "metadata": {},
   "outputs": [],
   "source": []
  }
 ],
 "metadata": {
  "kernelspec": {
   "display_name": "Python 3",
   "language": "python",
   "name": "python3"
  },
  "language_info": {
   "codemirror_mode": {
    "name": "ipython",
    "version": 3
   },
   "file_extension": ".py",
   "mimetype": "text/x-python",
   "name": "python",
   "nbconvert_exporter": "python",
   "pygments_lexer": "ipython3",
   "version": "3.7.7"
  }
 },
 "nbformat": 4,
 "nbformat_minor": 4
}
